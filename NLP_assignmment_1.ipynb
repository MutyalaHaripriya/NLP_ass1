{
  "nbformat": 4,
  "nbformat_minor": 0,
  "metadata": {
    "colab": {
      "provenance": []
    },
    "kernelspec": {
      "name": "python3",
      "display_name": "Python 3"
    },
    "language_info": {
      "name": "python"
    }
  },
  "cells": [
    {
      "cell_type": "markdown",
      "source": [
        "**1. Preprocessing**\n",
        "\n",
        "\n",
        "*   Remove punctuation and digits\n",
        "*   Add sentence markers tags to mark sentence boundaries\n",
        "*   Convert all tokens to lowercase"
      ],
      "metadata": {
        "id": "IiMbioVkYqAM"
      }
    },
    {
      "cell_type": "code",
      "execution_count": 2,
      "metadata": {
        "id": "nodhJEjYa95H",
        "colab": {
          "base_uri": "https://localhost:8080/"
        },
        "outputId": "6d97e31c-53e3-4865-95ec-a929e8b8cd2f"
      },
      "outputs": [
        {
          "output_type": "stream",
          "name": "stdout",
          "text": [
            "[['<s>', 'i', 'booked', 'two', 'rooms', 'four', 'months', 'in', 'advance', 'at', 'the', 'talbott', 'we', 'were', 'placed', 'on', 'the', 'top', 'floor', 'next', 'to', 'the', 'elevators', 'which', 'are', 'used', 'all', 'night', 'long', 'when', 'speaking', 'to', 'the', 'front', 'desk', 'i', 'was', 'told', 'that', 'they', 'were', 'simply', 'honoring', 'my', 'request', 'for', 'an', 'upper', 'floor', 'which', 'i', 'had', 'requested', 'for', 'a', 'better', 'view', 'i', 'am', 'looking', 'at', 'a', 'brick', 'wall', 'and', 'getting', 'no', 'sleep', 'he', 'also', 'told', 'me', 'that', 'they', 'had', 'received', 'complaints', 'before', 'from', 'guests', 'on', 'the', '16th', 'floor', 'and', 'were', 'aware', 'of', 'the', 'noise', 'problem', 'why', 'then', 'did', 'they', 'place', 'us', 'on', 'this', 'floor', 'when', 'the', 'hotel', 'is', 'not', 'totally', 'booked', 'a', 'request', 'for', 'an', 'upper', 'floor', 'does', 'not', 'constitute', 'placing', 'someone', 'on', 'the', 'top', 'floor', 'and', 'using', 'that', 'request', 'to', 'justify', 'this', 'if', 'you', 'decide', 'to', 'stay', 'here', 'request', 'a', 'room', 'on', 'a', 'lower', 'floor', 'and', 'away', 'from', 'the', 'elevator', 'i', 'spoke', 'at', 'length', 'when', 'booking', 'my', 'two', 'rooms', 'about', 'my', 'preferences', 'this', 'is', 'simply', 'poor', 'treatment', 'of', 'a', 'guest', 'whom', 'they', 'believed', 'would', 'not', 'complain', '</s>'], ['<s>', 'i', 'loved', 'this', 'hotel', 'the', 'room', 'was', 'so', 'chic', 'and', 'trendy', 'the', 'bed', 'was', 'comfortable', 'great', 'slippers', 'and', 'robes', 'i', 'love', 'the', 'keihl', 's', 'bath', 'products', 'in', 'the', 'bathroom', 'we', 'went', 'during', 'my', 'birthday', 'weekend', 'and', 'they', 'had', 'a', 'card', 'and', 'plate', 'with', 'pastries', 'waiting', 'in', 'the', 'room', 'we', 'got', 'a', 'great', 'deal', 'on', 'a', 'junior', 'suite', 'from', 'travelzoo', 'but', 'when', 'we', 'tried', 'to', 'take', 'another', 'trip', 'to', 'chicago', 'the', 'deal', 'was', 'gone', 'i', 'really', 'recommend', 'the', 'hotel', 'i', 'loved', 'it', 'the', 'only', 'problem', 'we', 'had', 'was', 'with', 'the', 'david', 'burke', 'steakhouse', 'the', 'service', 'was', 'horrible', 'they', 'switched', 'our', 'order', 'with', 'the', 'table', 'next', 'to', 'our', 's', 'and', 'the', 'only', 'compensation', 'was', 'they', 'took', 'off', 'a', '7', 'side', 'dish', 'we', 'ordered', 'and', 'they', 'were', 'nice', 'enough', 'to', 'not', 'charge', 'us', 'for', 'the', 'other', 'side', 'dish', 'we', 'did', 'nt', 'get', 'do', 'nt', 'go', 'there', 'go', 'to', 'the', 'lawry', 's', 'accross', 'the', 'street', 'but', 'stay', 'at', 'the', 'james', 'btw', 'its', 'not', 'a', '3star', 'hotel', 'like', 'the', 'website', 'lists', 'its', 'at', 'least', '4star', '</s>'], ['<s>', 'the', 'hard', 'rock', 'hotel', 'chicago', 'has', 'become', 'my', 'favorite', 'hotel', 'i', 've', 'stayed', 'there', 'at', 'least', '5', 'times', 'now', 'and', 'have', 'never', 'had', 'anything', 'other', 'than', 'a', 'wonderful', 'experience', 'as', 'you', 'might', 'have', 'guessed', 'it', 'has', 'a', 'super', 'rock', 'roll', 'theme', 'with', 'some', 'music', 'paraphanelia', 'in', 'the', 'lobby', 'and', 'on', 'each', 'floor', 's', 'elevator', 'lobby', 'the', 'rooms', 'all', 'have', 'large', 'photo', 'murals', 'that', 'are', 'themed', 'to', 'different', 'musicians', 'you', 'can', 'request', 'being', 'on', 'the', 'floor', 'of', 'your', 'favorite', 'band', 'like', 'kiss', 'aerosmith', 'etc', 'the', 'rooms', 'are', 'great', 'well', 'appointed', 'super', 'comfortable', 'beds', 'and', 'luxurious', 'sheets', 'and', 'wonderous', 'pillows', 'the', 'large', 'tv', 'has', 'a', 'cool', 'sound', 'system', 'that', 'ramps', 'up', 'the', 'viewing', 'experience', 'there', 's', 'a', 'spacious', 'desk', 'in', 'each', 'room', 'with', 'a', 'mini', 'bar', 'i', 've', 'always', 'had', 'a', 'room', 'with', 'big', 'windows', 'and', 'a', 'view', 'down', 'michigan', 'ave', 'the', 'hotel', 'sits', 'right', 'on', 'michigan', 'a', 'block', 'from', 'the', 'canal', 'the', 'bathrooms', 'are', 'furnished', 'with', 'absolutely', 'great', 'fixtures', 'sporting', 'a', 'great', 'design', 'some', 'of', 'the', 'showers', 'have', 'windows', 'in', 'side', 'of', 'them', 'you', 'can', 'shower', 'and', 'enjoy', 'the', 'view', 'down', 'michigan', 'or', 'close', 'the', 'waterproof', 'drapes', 'i', 've', 'never', 'had', 'anything', 'but', 'a', 'great', 'experience', 'with', 'the', 'staff', 'here', 'front', 'desk', 'doorman', 'etc', 'are', 'all', 'great', 'there', 's', 'a', 'lobby', 'bar', 'that', 'still', 'feels', 'intimate', 'and', 'has', 'nice', 'energy', 'big', 'screen', 'tv', 'to', 'catch', 'the', 'latest', 'scores', 'too', 'of', 'course', 'rock', 'roll', 'music', 'pumps', 'thru', 'the', 'place', 'you', 'can', 'stay', 'at', 'a', 'plain', 'hotel', 'anywhere', 'but', 'this', 'is', 'a', 'great', 'well', 'designed', 'fun', 'and', 'memorable', 'hotel', 'that', 'you', 'll', 'want', 'to', 'return', 'back', 'to', 'if', 'i', 'had', 'one', 'concern', 'it', 'would', 'be', 'the', 'rather', 'crazy', 'charge', 'for', 'parking', 'your', 'car', 'overnight', 'my', 'daily', 'car', 'parking', 'rate', 'was', 'close', 'to', '50', 'per', 'night', 'which', 'i', 'm', 'sorry', 'to', 'say', 'is', 'about', 'the', 'going', 'rate', 'in', 'the', 'loop', 'stay', 'here', 'be', 'cool', '</s>'], ['<s>', 'we', 'also', 'just', 'returned', 'from', 'a', 'frigid', 'weekend', 'in', 'chicago', 'i', 'booked', 'the', 'ambassador', 'east', 'because', 'of', 'its', 'great', 'rate', '8900', 'with', 'my', 'aaa', 'card', 'and', 'we', 'were', 'delighted', 'yes', 'the', 'rooms', 'show', 'some', 'signs', 'of', 'wear', 'but', 'the', 'warmth', 'and', 'charm', 'far', 'make', 'up', 'for', 'it', 'this', 'was', 'such', 'a', 'pleasant', 'change', 'from', 'the', 'sleek', 'modern', 'look', 'of', 'many', 'other', 'chain', 'and', 'boutique', 'hotels', 'we', 'became', 'members', 'of', 'the', 'i', 'preferred', 'program', 'and', 'were', 'therefore', 'eligible', 'for', 'an', 'upgrade', 'which', 'we', 'automatically', 'got', 'upon', 'check', 'in', 'we', 'had', 'a', 'lovely', 'suite', 'with', 'lots', 'of', 'sitting', 'room', 'and', 'a', 'comfortable', 'bedroom', 'and', 'bathroom', 'we', 'had', 'wonderful', 'food', 'at', 'the', 'pump', 'room', 'which', 'is', 'classic', 'our', 'oatmeal', 'there', 'was', 'so', 'tastefully', 'served', 'i', 'd', 'love', 'to', 'have', 'some', 'right', 'now', 'the', 'location', 'was', 'great', 'had', 'it', 'been', 'normal', 'winter', 'weather', 'we', 'could', 'have', 'easily', 'walked', 'to', 'michigan', 'avenue', 'for', 'shopping', 'but', 'due', 'to', 'the', 'minus', '20', 'degree', 'windchills', 'we', 'opted', 'for', 'a', 'cab', 'which', 'was', 'less', 'than', 'a', '500', 'fare', 'we', 'also', 'enjoyed', 'a', 'glass', 'of', 'wine', 'around', 'the', 'fireplace', 'in', 'the', 'lobby', 'and', 'found', 'it', 'so', 'welcoming', 'and', 'cozy', 'and', 'not', 'overcrowed', 'at', 'all', 'we', 'would', 'definitely', 'stay', 'here', 'again', '</s>'], ['<s>', 'i', 'can', 'easily', 'say', 'this', 'is', 'one', 'of', 'the', 'worst', 'hotels', 'i', 've', 'stayed', 'at', 'the', 'the', 'receptionist', 'up', 'front', 'was', 'a', 'snooty', 'sarcastic', 'teenager', 'or', 'post', 'teenager', 'you', 'can', 'get', 'better', 'service', 'from', 'a', 'waiter', 'or', 'waitress', 'at', 'a', 'diner', 'the', 'room', 'was', 'dirty', 'stains', 'on', 'the', 'carpet', 'the', 'showerhead', 'was', 'moldy', 'and', 'rusted', 'the', 'doors', 'of', 'the', 'bathroom', 'and', 'main', 'door', 'all', 'had', 'dents', 'and', 'scratches', 'the', 'towels', 'had', 'a', 'horrible', 'aroma', 'the', 'hotel', 'is', 'very', 'narrow', 'so', 'we', 'were', 'near', 'a', 'construction', 'zone', 'so', 'i', 'would', 'plan', 'on', 'waking', 'up', 'at', '6', 'am', 'if', 'you', 'choose', 'the', 'talbott', 'the', 'next', 'day', 'i', 'asked', 'for', 'another', 'room', 'and', 'the', 'concierge', 'who', 'was', 'a', 'decent', 'guy', 'moved', 'us', 'to', 'a', 'larger', 'more', 'comfortable', 'room', 'that', 'room', 'though', 'was', 'right', 'by', 'the', 'elevator', 'and', 'it', 'was', 'torture', 'hearing', 'the', 'sounds', 'of', 'the', 'elevator', 'which', 'just', 'would', 'never', 'stop', 'i', 'asked', 'for', 'late', 'checkout', 'at', '1pm', 'and', 'the', 'receptionist', 'refused', 'stating', 'that', 'we', 'would', 'be', 'charged', 'for', 'a', 'half', 'day', 'if', 'were', 'not', 'out', 'by', 'noon', 'i', 'had', 'to', 'speak', 'to', 'the', 'manager', 'who', 'gave', 'us', 'till', '1pm', 'please', 'stay', 'away', 'from', 'this', 'hotel', 'i', 'think', 'a', 'holiday', 'inn', 'would', 'be', 'better', 'andrew', 'f', 'gulli', '</s>']]\n"
          ]
        }
      ],
      "source": [
        "import re\n",
        "from collections import Counter, defaultdict\n",
        "\n",
        "def preprocess(text):\n",
        "    # Remove punctuation and digits, add sentence markers\n",
        "    text = re.sub(r'[^\\w\\s]', '', text)\n",
        "    text = \"<s> \" + text.lower() + \" </s>\"\n",
        "    return text.split()\n",
        "\n",
        "def load_data(filepath):\n",
        "    with open(filepath, 'r') as f:\n",
        "        lines = f.readlines()\n",
        "    return [preprocess(line.strip()) for line in lines]\n",
        "\n",
        "train_data = load_data('/train.txt')\n",
        "validation_data = load_data('/val.txt')\n",
        "\n",
        "# Check first few processed sentences\n",
        "print(train_data[:5])\n"
      ]
    },
    {
      "cell_type": "markdown",
      "source": [
        "**2. Handling Unknown Words**"
      ],
      "metadata": {
        "id": "gLbrHZU-Y0gv"
      }
    },
    {
      "cell_type": "code",
      "source": [
        "def handle_unknowns(corpus, k=1):\n",
        "    # Count frequencies of tokens\n",
        "    counts = Counter([word for sentence in corpus for word in sentence])\n",
        "    # Replace words with frequency <= k with <UNK>\n",
        "    return [[word if counts[word] > k else '<UNK>' for word in sentence] for sentence in corpus]\n",
        "\n",
        "# Apply unknown word handling\n",
        "train_data = handle_unknowns(train_data)\n",
        "validation_data = handle_unknowns(validation_data)\n",
        "\n",
        "# Check first few processed sentences with <UNK>\n",
        "print(train_data[:5])\n"
      ],
      "metadata": {
        "colab": {
          "base_uri": "https://localhost:8080/"
        },
        "id": "8hNhZdVlYSPf",
        "outputId": "cdc00f88-6cc8-47a4-da18-dd9df6f1d32a"
      },
      "execution_count": 3,
      "outputs": [
        {
          "output_type": "stream",
          "name": "stdout",
          "text": [
            "[['<s>', 'i', 'booked', 'two', 'rooms', 'four', 'months', 'in', 'advance', 'at', 'the', 'talbott', 'we', 'were', 'placed', 'on', 'the', 'top', 'floor', 'next', 'to', 'the', 'elevators', 'which', 'are', 'used', 'all', 'night', 'long', 'when', 'speaking', 'to', 'the', 'front', 'desk', 'i', 'was', 'told', 'that', 'they', 'were', 'simply', '<UNK>', 'my', 'request', 'for', 'an', 'upper', 'floor', 'which', 'i', 'had', 'requested', 'for', 'a', 'better', 'view', 'i', 'am', 'looking', 'at', 'a', 'brick', 'wall', 'and', 'getting', 'no', 'sleep', 'he', 'also', 'told', 'me', 'that', 'they', 'had', 'received', 'complaints', 'before', 'from', 'guests', 'on', 'the', '16th', 'floor', 'and', 'were', 'aware', 'of', 'the', 'noise', 'problem', 'why', 'then', 'did', 'they', 'place', 'us', 'on', 'this', 'floor', 'when', 'the', 'hotel', 'is', 'not', 'totally', 'booked', 'a', 'request', 'for', 'an', 'upper', 'floor', 'does', 'not', '<UNK>', '<UNK>', 'someone', 'on', 'the', 'top', 'floor', 'and', 'using', 'that', 'request', 'to', '<UNK>', 'this', 'if', 'you', '<UNK>', 'to', 'stay', 'here', 'request', 'a', 'room', 'on', 'a', 'lower', 'floor', 'and', 'away', 'from', 'the', 'elevator', 'i', 'spoke', 'at', 'length', 'when', 'booking', 'my', 'two', 'rooms', 'about', 'my', '<UNK>', 'this', 'is', 'simply', 'poor', 'treatment', 'of', 'a', 'guest', 'whom', 'they', '<UNK>', 'would', 'not', 'complain', '</s>'], ['<s>', 'i', 'loved', 'this', 'hotel', 'the', 'room', 'was', 'so', 'chic', 'and', 'trendy', 'the', 'bed', 'was', 'comfortable', 'great', 'slippers', 'and', 'robes', 'i', 'love', 'the', '<UNK>', 's', 'bath', 'products', 'in', 'the', 'bathroom', 'we', 'went', 'during', 'my', 'birthday', 'weekend', 'and', 'they', 'had', 'a', 'card', 'and', 'plate', 'with', 'pastries', 'waiting', 'in', 'the', 'room', 'we', 'got', 'a', 'great', 'deal', 'on', 'a', 'junior', 'suite', 'from', 'travelzoo', 'but', 'when', 'we', 'tried', 'to', 'take', 'another', 'trip', 'to', 'chicago', 'the', 'deal', 'was', 'gone', 'i', 'really', 'recommend', 'the', 'hotel', 'i', 'loved', 'it', 'the', 'only', 'problem', 'we', 'had', 'was', 'with', 'the', 'david', 'burke', 'steakhouse', 'the', 'service', 'was', 'horrible', 'they', 'switched', 'our', 'order', 'with', 'the', 'table', 'next', 'to', 'our', 's', 'and', 'the', 'only', 'compensation', 'was', 'they', 'took', 'off', 'a', '7', 'side', 'dish', 'we', 'ordered', 'and', 'they', 'were', 'nice', 'enough', 'to', 'not', 'charge', 'us', 'for', 'the', 'other', 'side', 'dish', 'we', 'did', 'nt', 'get', 'do', 'nt', 'go', 'there', 'go', 'to', 'the', '<UNK>', 's', '<UNK>', 'the', 'street', 'but', 'stay', 'at', 'the', 'james', 'btw', 'its', 'not', 'a', '<UNK>', 'hotel', 'like', 'the', 'website', '<UNK>', 'its', 'at', 'least', '4star', '</s>'], ['<s>', 'the', 'hard', 'rock', 'hotel', 'chicago', 'has', '<UNK>', 'my', 'favorite', 'hotel', 'i', 've', 'stayed', 'there', 'at', 'least', '5', 'times', 'now', 'and', 'have', 'never', 'had', 'anything', 'other', 'than', 'a', 'wonderful', 'experience', 'as', 'you', 'might', 'have', '<UNK>', 'it', 'has', 'a', 'super', 'rock', 'roll', 'theme', 'with', 'some', 'music', '<UNK>', 'in', 'the', 'lobby', 'and', 'on', 'each', 'floor', 's', 'elevator', 'lobby', 'the', 'rooms', 'all', 'have', 'large', 'photo', '<UNK>', 'that', 'are', '<UNK>', 'to', 'different', '<UNK>', 'you', 'can', 'request', 'being', 'on', 'the', 'floor', 'of', 'your', 'favorite', 'band', 'like', 'kiss', '<UNK>', 'etc', 'the', 'rooms', 'are', 'great', 'well', 'appointed', 'super', 'comfortable', 'beds', 'and', 'luxurious', 'sheets', 'and', '<UNK>', 'pillows', 'the', 'large', 'tv', 'has', 'a', 'cool', 'sound', 'system', 'that', '<UNK>', 'up', 'the', 'viewing', 'experience', 'there', 's', 'a', 'spacious', 'desk', 'in', 'each', 'room', 'with', 'a', 'mini', 'bar', 'i', 've', 'always', 'had', 'a', 'room', 'with', 'big', 'windows', 'and', 'a', 'view', 'down', 'michigan', 'ave', 'the', 'hotel', 'sits', 'right', 'on', 'michigan', 'a', 'block', 'from', 'the', '<UNK>', 'the', 'bathrooms', 'are', 'furnished', 'with', 'absolutely', 'great', 'fixtures', '<UNK>', 'a', 'great', 'design', 'some', 'of', 'the', 'showers', 'have', 'windows', 'in', 'side', 'of', 'them', 'you', 'can', 'shower', 'and', 'enjoy', 'the', 'view', 'down', 'michigan', 'or', 'close', 'the', '<UNK>', '<UNK>', 'i', 've', 'never', 'had', 'anything', 'but', 'a', 'great', 'experience', 'with', 'the', 'staff', 'here', 'front', 'desk', 'doorman', 'etc', 'are', 'all', 'great', 'there', 's', 'a', 'lobby', 'bar', 'that', 'still', 'feels', 'intimate', 'and', 'has', 'nice', '<UNK>', 'big', 'screen', 'tv', 'to', 'catch', 'the', 'latest', '<UNK>', 'too', 'of', 'course', 'rock', 'roll', 'music', '<UNK>', 'thru', 'the', 'place', 'you', 'can', 'stay', 'at', 'a', 'plain', 'hotel', 'anywhere', 'but', 'this', 'is', 'a', 'great', 'well', 'designed', 'fun', 'and', 'memorable', 'hotel', 'that', 'you', 'll', 'want', 'to', 'return', 'back', 'to', 'if', 'i', 'had', 'one', 'concern', 'it', 'would', 'be', 'the', 'rather', 'crazy', 'charge', 'for', 'parking', 'your', 'car', 'overnight', 'my', 'daily', 'car', 'parking', 'rate', 'was', 'close', 'to', '50', 'per', 'night', 'which', 'i', 'm', 'sorry', 'to', 'say', 'is', 'about', 'the', 'going', 'rate', 'in', 'the', 'loop', 'stay', 'here', 'be', 'cool', '</s>'], ['<s>', 'we', 'also', 'just', 'returned', 'from', 'a', '<UNK>', 'weekend', 'in', 'chicago', 'i', 'booked', 'the', 'ambassador', 'east', 'because', 'of', 'its', 'great', 'rate', '<UNK>', 'with', 'my', 'aaa', 'card', 'and', 'we', 'were', 'delighted', 'yes', 'the', 'rooms', 'show', 'some', 'signs', 'of', 'wear', 'but', 'the', '<UNK>', 'and', 'charm', 'far', 'make', 'up', 'for', 'it', 'this', 'was', 'such', 'a', 'pleasant', 'change', 'from', 'the', 'sleek', 'modern', 'look', 'of', 'many', 'other', 'chain', 'and', 'boutique', 'hotels', 'we', 'became', 'members', 'of', 'the', 'i', 'preferred', 'program', 'and', 'were', 'therefore', '<UNK>', 'for', 'an', 'upgrade', 'which', 'we', 'automatically', 'got', 'upon', 'check', 'in', 'we', 'had', 'a', 'lovely', 'suite', 'with', 'lots', 'of', 'sitting', 'room', 'and', 'a', 'comfortable', 'bedroom', 'and', 'bathroom', 'we', 'had', 'wonderful', 'food', 'at', 'the', 'pump', 'room', 'which', 'is', 'classic', 'our', 'oatmeal', 'there', 'was', 'so', 'tastefully', 'served', 'i', 'd', 'love', 'to', 'have', 'some', 'right', 'now', 'the', 'location', 'was', 'great', 'had', 'it', 'been', 'normal', 'winter', 'weather', 'we', 'could', 'have', 'easily', 'walked', 'to', 'michigan', 'avenue', 'for', 'shopping', 'but', 'due', 'to', 'the', 'minus', '20', 'degree', '<UNK>', 'we', 'opted', 'for', 'a', 'cab', 'which', 'was', 'less', 'than', 'a', '500', 'fare', 'we', 'also', 'enjoyed', 'a', 'glass', 'of', 'wine', 'around', 'the', '<UNK>', 'in', 'the', 'lobby', 'and', 'found', 'it', 'so', 'welcoming', 'and', 'cozy', 'and', 'not', '<UNK>', 'at', 'all', 'we', 'would', 'definitely', 'stay', 'here', 'again', '</s>'], ['<s>', 'i', 'can', 'easily', 'say', 'this', 'is', 'one', 'of', 'the', 'worst', 'hotels', 'i', 've', 'stayed', 'at', 'the', 'the', 'receptionist', 'up', 'front', 'was', 'a', '<UNK>', '<UNK>', 'teenager', 'or', 'post', 'teenager', 'you', 'can', 'get', 'better', 'service', 'from', 'a', 'waiter', 'or', 'waitress', 'at', 'a', '<UNK>', 'the', 'room', 'was', 'dirty', 'stains', 'on', 'the', 'carpet', 'the', 'showerhead', 'was', 'moldy', 'and', '<UNK>', 'the', 'doors', 'of', 'the', 'bathroom', 'and', 'main', 'door', 'all', 'had', '<UNK>', 'and', '<UNK>', 'the', 'towels', 'had', 'a', 'horrible', '<UNK>', 'the', 'hotel', 'is', 'very', '<UNK>', 'so', 'we', 'were', 'near', 'a', 'construction', 'zone', 'so', 'i', 'would', 'plan', 'on', 'waking', 'up', 'at', '6', 'am', 'if', 'you', 'choose', 'the', 'talbott', 'the', 'next', 'day', 'i', 'asked', 'for', 'another', 'room', 'and', 'the', 'concierge', 'who', 'was', 'a', 'decent', 'guy', 'moved', 'us', 'to', 'a', 'larger', 'more', 'comfortable', 'room', 'that', 'room', 'though', 'was', 'right', 'by', 'the', 'elevator', 'and', 'it', 'was', '<UNK>', 'hearing', 'the', 'sounds', 'of', 'the', 'elevator', 'which', 'just', 'would', 'never', 'stop', 'i', 'asked', 'for', 'late', 'checkout', 'at', '1pm', 'and', 'the', 'receptionist', 'refused', 'stating', 'that', 'we', 'would', 'be', 'charged', 'for', 'a', 'half', 'day', 'if', 'were', 'not', 'out', 'by', 'noon', 'i', 'had', 'to', 'speak', 'to', 'the', 'manager', 'who', 'gave', 'us', 'till', '1pm', 'please', 'stay', 'away', 'from', 'this', 'hotel', 'i', 'think', 'a', 'holiday', 'inn', 'would', 'be', 'better', 'andrew', '<UNK>', '<UNK>', '</s>']]\n"
          ]
        }
      ]
    },
    {
      "cell_type": "markdown",
      "source": [
        "**3. Unigram and Bigram Frequency Calculation**"
      ],
      "metadata": {
        "id": "NEWTQ6AHZn2r"
      }
    },
    {
      "cell_type": "code",
      "source": [
        "def count_ngrams(corpus, n):\n",
        "    ngrams = defaultdict(int)\n",
        "    for sentence in corpus:\n",
        "        for i in range(len(sentence)):\n",
        "            # Unigram\n",
        "            if n == 1:\n",
        "                ngrams[sentence[i]] += 1\n",
        "            # Bigram\n",
        "            if n == 2 and i > 0:\n",
        "                ngrams[(sentence[i-1], sentence[i])] += 1\n",
        "    return ngrams\n",
        "\n",
        "# Calculate unigram and bigram frequencies\n",
        "unigrams = count_ngrams(train_data, 1)\n",
        "bigrams = count_ngrams(train_data, 2)\n",
        "\n",
        "# Check unigram and bigram counts\n",
        "print(list(unigrams.items())[:5])\n",
        "print(list(bigrams.items())[:5])\n"
      ],
      "metadata": {
        "colab": {
          "base_uri": "https://localhost:8080/"
        },
        "id": "5KbL9WGfYY8h",
        "outputId": "58541676-92fd-44a4-b0fe-3472112c99d1"
      },
      "execution_count": 4,
      "outputs": [
        {
          "output_type": "stream",
          "name": "stdout",
          "text": [
            "[('<s>', 512), ('i', 1711), ('booked', 86), ('two', 128), ('rooms', 202)]\n",
            "[(('<s>', 'i'), 111), (('i', 'booked'), 21), (('booked', 'two'), 1), (('two', 'rooms'), 3), (('rooms', 'four'), 1)]\n"
          ]
        }
      ]
    },
    {
      "cell_type": "markdown",
      "source": [
        "**4. Calculate Unigram and Bigram Probabilities**"
      ],
      "metadata": {
        "id": "3jymoglOZt9d"
      }
    },
    {
      "cell_type": "code",
      "source": [
        "def calculate_unigram_probabilities(unigrams):\n",
        "    total_count = sum(unigrams.values())\n",
        "    return {word: count / total_count for word, count in unigrams.items()}\n",
        "\n",
        "def calculate_bigram_probabilities(bigrams, unigrams):\n",
        "    return {pair: count / unigrams[pair[0]] for pair, count in bigrams.items()}\n",
        "\n",
        "# Calculate probabilities\n",
        "unigram_probs = calculate_unigram_probabilities(unigrams)\n",
        "bigram_probs = calculate_bigram_probabilities(bigrams, unigrams)\n",
        "\n",
        "# Check probabilities\n",
        "print(list(unigram_probs.items())[:5])\n",
        "print(list(bigram_probs.items())[:5])\n"
      ],
      "metadata": {
        "colab": {
          "base_uri": "https://localhost:8080/"
        },
        "id": "4rrkavK7Ycwv",
        "outputId": "82ef21fe-3431-40ec-c012-b099d10d93fd"
      },
      "execution_count": 5,
      "outputs": [
        {
          "output_type": "stream",
          "name": "stdout",
          "text": [
            "[('<s>', 0.006366337987889037), ('i', 0.02127500839312137), ('booked', 0.0010693458339032366), ('two', 0.0015915844969722592), ('rooms', 0.0025117192842843464)]\n",
            "[(('<s>', 'i'), 0.216796875), (('i', 'booked'), 0.012273524254821741), (('booked', 'two'), 0.011627906976744186), (('two', 'rooms'), 0.0234375), (('rooms', 'four'), 0.0049504950495049506)]\n"
          ]
        }
      ]
    },
    {
      "cell_type": "markdown",
      "source": [
        "**5. Laplace and Add-k Smoothing**"
      ],
      "metadata": {
        "id": "htUBiFGLbIgU"
      }
    },
    {
      "cell_type": "code",
      "source": [
        "# Laplace smoothing\n",
        "def laplace_smoothing(bigrams, unigrams, vocab_size):\n",
        "    smoothed_probs = defaultdict(float)\n",
        "    for (w1, w2), count in bigrams.items():\n",
        "        smoothed_probs[(w1, w2)] = (count + 1) / (unigrams[w1] + vocab_size)\n",
        "    return smoothed_probs\n",
        "\n",
        "# Add-k smoothing\n",
        "def add_k_smoothing(bigrams, unigrams, vocab_size, k=1):\n",
        "    smoothed_probs = defaultdict(float)\n",
        "    for (w1, w2), count in bigrams.items():\n",
        "        smoothed_probs[(w1, w2)] = (count + k) / (unigrams[w1] + k * vocab_size)\n",
        "    return smoothed_probs\n",
        "\n",
        "vocab_size = len(unigram_probs)\n",
        "laplace_probs = laplace_smoothing(bigrams, unigrams, vocab_size)\n",
        "add_k_probs = add_k_smoothing(bigrams, unigrams, vocab_size, k=0.5)\n",
        "\n",
        "# Check smoothed probabilities\n",
        "print(list(laplace_probs.items())[:5])\n",
        "print(list(add_k_probs.items())[:5])\n"
      ],
      "metadata": {
        "colab": {
          "base_uri": "https://localhost:8080/"
        },
        "id": "eD8EOoRKYedl",
        "outputId": "bd633e91-a482-423a-c998-3f6a6df9f795"
      },
      "execution_count": 6,
      "outputs": [
        {
          "output_type": "stream",
          "name": "stdout",
          "text": [
            "[(('<s>', 'i'), 0.031189083820662766), (('i', 'booked'), 0.004592901878914405), (('booked', 'two'), 0.000631911532385466), (('two', 'rooms'), 0.0012472715933894605), (('rooms', 'four'), 0.0006095702529716549)]\n",
            "[(('<s>', 'i'), 0.054350475262003414), (('i', 'booked'), 0.006614367020458391), (('booked', 'two'), 0.0009227929867733005), (('two', 'rooms'), 0.002098950524737631), (('rooms', 'four'), 0.0008613264427217916)]\n"
          ]
        }
      ]
    },
    {
      "cell_type": "markdown",
      "source": [
        "**6. Perplexity Calculation**"
      ],
      "metadata": {
        "id": "OYPoLzepZ_JK"
      }
    },
    {
      "cell_type": "code",
      "source": [
        "import math\n",
        "\n",
        "def calculate_perplexity(test_data, ngram_probs, n):\n",
        "    log_prob_sum = 0\n",
        "    N = 0  # Total number of tokens\n",
        "\n",
        "    for sentence in test_data:\n",
        "        for i in range(1, len(sentence)):\n",
        "            N += 1\n",
        "            if n == 1:\n",
        "                prob = ngram_probs.get(sentence[i], ngram_probs.get('<UNK>', 1e-6))  # Unigram\n",
        "            elif n == 2:\n",
        "                prob = ngram_probs.get((sentence[i-1], sentence[i]), ngram_probs.get(('<UNK>', '<UNK>'), 1e-6))  # Bigram\n",
        "            log_prob_sum += math.log(prob)  # Log base 2\n",
        "\n",
        "    # Applying the perplexity formula\n",
        "    perplexity = math.exp(-log_prob_sum / N)\n",
        "    return perplexity\n",
        "\n",
        "# Calculate perplexity for Laplace and Add-k smoothing\n",
        "perplexity_laplace = calculate_perplexity(validation_data, laplace_probs, 2)\n",
        "perplexity_add_k = calculate_perplexity(validation_data, add_k_probs, 2)\n",
        "\n",
        "print(\"Perplexity with Laplace smoothing:\", perplexity_laplace)\n",
        "print(\"Perplexity with Add-k smoothing:\", perplexity_add_k)\n",
        "\n"
      ],
      "metadata": {
        "colab": {
          "base_uri": "https://localhost:8080/"
        },
        "id": "ozPD6K98YkRJ",
        "outputId": "fe36b8e9-b1b1-4d45-91f2-cac5cb3cf0b9"
      },
      "execution_count": 7,
      "outputs": [
        {
          "output_type": "stream",
          "name": "stdout",
          "text": [
            "Perplexity with Laplace smoothing: 156.91966162970678\n",
            "Perplexity with Add-k smoothing: 106.69400520161689\n"
          ]
        }
      ]
    }
  ]
}